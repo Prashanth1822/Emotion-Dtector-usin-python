from flask import Flask, render_template, request, jsonify, url_for
import cv2
import numpy as np
import base64
from tensorflow.keras.models import model_from_json
from tensorflow.keras.preprocessing.image import load_img, img_to_array
import os
from PIL import Image
import io

app = Flask(__name__)

# Load your trained model
def load_emotion_model():
    try:
        # Load model architecture
        with open("model/emotiondetector.json", "r") as json_file:
            loaded_model_json = json_file.read()
        model = model_from_json(loaded_model_json)
        
        # Load weights
        model.load_weights("model/emotiondetector.h5")
        print("✅ Model loaded successfully")
        return model
    except Exception as e:
        print(f"❌ Error loading model: {e}")
        return None

# Initialize model
model = load_emotion_model()
emotion_labels = ['Angry', 'Disgust', 'Fear', 'Happy', 'Neutral', 'Sad', 'Surprise']

def preprocess_image(image):
    """Preprocess image for emotion detection"""
    # Convert to grayscale if needed
    if len(image.shape) == 3:
        image = cv2.cvtColor(image, cv2.COLOR_BGR2GRAY)
    
    # Resize to 48x48
    image = cv2.resize(image, (48, 48))
    
    # Normalize
    image = image / 255.0
    
    # Reshape for model
    image = image.reshape(1, 48, 48, 1)
    
    return image

@app.route('/')
def home():
    return render_template('index.html')

@app.route('/detect', methods=['POST'])
def detect_emotion():
    try:
        # Get image from request
        data = request.get_json()
        image_data = data['image'].split(',')[1]  # Remove data:image/jpeg;base64,
        
        # Decode base64 image
        image_bytes = base64.b64decode(image_data)
        image = Image.open(io.BytesIO(image_bytes))
        
        # Convert to numpy array
        image_np = np.array(image)
        
        # Preprocess image
        processed_image = preprocess_image(image_np)
        
        # Predict emotion
        if model is not None:
            predictions = model.predict(processed_image)
            emotion_index = np.argmax(predictions[0])
            emotion = emotion_labels[emotion_index]
            confidence = float(predictions[0][emotion_index])
            
            return jsonify({
                'success': True,
                'emotion': emotion,
                'confidence': round(confidence * 100, 2),
                'all_emotions': dict(zip(emotion_labels, [round(float(p), 4) for p in predictions[0]]))
            })
        else:
            return jsonify({
                'success': False,
                'error': 'Model not loaded properly'
            })
            
    except Exception as e:
        return jsonify({
            'success': False,
            'error': str(e)
        })

@app.route('/upload', methods=['POST'])
def upload_image():
    try:
        if 'file' not in request.files:
            return jsonify({'success': False, 'error': 'No file uploaded'})
        
        file = request.files['file']
        if file.filename == '':
            return jsonify({'success': False, 'error': 'No file selected'})
        
        # Read and process image
        image = Image.open(file.stream)
        image_np = np.array(image)
        
        # Preprocess image
        processed_image = preprocess_image(image_np)
        
        # Predict emotion
        if model is not None:
            predictions = model.predict(processed_image)
            emotion_index = np.argmax(predictions[0])
            emotion = emotion_labels[emotion_index]
            confidence = float(predictions[0][emotion_index])
            
            return jsonify({
                'success': True,
                'emotion': emotion,
                'confidence': round(confidence * 100, 2),
                'all_emotions': dict(zip(emotion_labels, [round(float(p), 4) for p in predictions[0]]))
            })
            
    except Exception as e:
        return jsonify({
            'success': False,
            'error': str(e)
        })

if __name__ == '__main__':
    app.run(debug=True, host='0.0.0.0', port=5000)